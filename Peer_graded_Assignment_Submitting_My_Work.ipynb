{
  "nbformat": 4,
  "nbformat_minor": 0,
  "metadata": {
    "colab": {
      "provenance": []
    },
    "kernelspec": {
      "name": "python3",
      "display_name": "Python 3"
    },
    "language_info": {
      "name": "python"
    }
  },
  "cells": [
    {
      "cell_type": "markdown",
      "source": [
        "# **Peer-graded_Assignment_Submitting_My_Work**\n",
        "\n",
        "\n"
      ],
      "metadata": {
        "id": "JOpBC-tksykJ"
      }
    },
    {
      "cell_type": "markdown",
      "source": [
        "In this notebook, Data Science Tools and Ecosystem are summarized."
      ],
      "metadata": {
        "id": "DXHmJkpfs-4t"
      }
    },
    {
      "cell_type": "markdown",
      "source": [
        "Objectives:\n",
        "\n",
        "List popular languages that Data Scientists use.\n",
        "List commonly used libraries used by Data Scientists.\n",
        "Comment on Data Science tools."
      ],
      "metadata": {
        "id": "anw3p1j6w0qu"
      }
    },
    {
      "cell_type": "markdown",
      "source": [
        "Some of the popular languages that Data Scientists use are:\n",
        "\n",
        "Python.\n",
        "R.\n",
        "SQL.\n",
        "Java.\n",
        "Julia.\n",
        "Scala.\n",
        "C/C++.\n",
        "JavaScript."
      ],
      "metadata": {
        "id": "nL8t75MgtEvL"
      }
    },
    {
      "cell_type": "markdown",
      "source": [
        "Some of the commonly used libraries used by Data Scientists include:\n",
        "\n",
        "TensorFlow.\n",
        "NumPy.\n",
        "SciPy.\n",
        "Pandas.\n",
        "Matplotlib.\n",
        "Keras.\n",
        "SciKit-Learn.\n",
        "PyTorch.\n",
        "Scrapy.\n",
        "BeautifulSoup.\n",
        "LightGBM.\n",
        "ELI5.\n",
        "Theano.\n",
        "NuPIC.\n",
        "Ramp.\n",
        "Pipenv.\n",
        "Bob.\n",
        "PyBrain.\n",
        "Caffe2.\n",
        "Chainer."
      ],
      "metadata": {
        "id": "M82GiZD_vCa9"
      }
    },
    {
      "cell_type": "markdown",
      "source": [
        "Data Science Tools:\n",
        "\n",
        "Data Science Tools\n",
        "SAS. It is one of those data science tools which are specifically designed for statistical operation\n",
        "Apache Spark\n",
        "BigML"
      ],
      "metadata": {
        "id": "8g33A5C3vTll"
      }
    },
    {
      "cell_type": "code",
      "source": [
        "# Arithmetic operations\n",
        "code = compile(\"5 + 4\", \"<string>\", \"eval\")\n",
        "eval(code)\n",
        "# Result: 9"
      ],
      "metadata": {
        "colab": {
          "base_uri": "https://localhost:8080/"
        },
        "id": "7wCdxJlmtHl6",
        "outputId": "8669428c-e3e5-4dd2-f60e-6f4cb0c637b0"
      },
      "execution_count": 2,
      "outputs": [
        {
          "output_type": "execute_result",
          "data": {
            "text/plain": [
              "9"
            ]
          },
          "metadata": {},
          "execution_count": 2
        }
      ]
    },
    {
      "cell_type": "code",
      "source": [
        "code1 = compile(\"(5 + 7) * 2\", \"<string>\", \"eval\")\n",
        "eval(code1)\n",
        "# Result: 24"
      ],
      "metadata": {
        "colab": {
          "base_uri": "https://localhost:8080/"
        },
        "id": "OIAUKreuviQr",
        "outputId": "0eb12d08-5c8f-4045-f7e6-52677027c52c"
      },
      "execution_count": 3,
      "outputs": [
        {
          "output_type": "execute_result",
          "data": {
            "text/plain": [
              "24"
            ]
          },
          "metadata": {},
          "execution_count": 3
        }
      ]
    },
    {
      "cell_type": "code",
      "source": [
        "import math\n",
        "# Volume of a sphere\n",
        "code2 = compile(\"4 / 3 * math.pi * math.pow(25, 3)\", \"<string>\", \"eval\")\n",
        "eval(code2)\n",
        "# Result: 65449.84694978735"
      ],
      "metadata": {
        "colab": {
          "base_uri": "https://localhost:8080/"
        },
        "id": "JNfYLO2LvkO8",
        "outputId": "a8bf959c-c9ae-470f-ed21-3e422385d41f"
      },
      "execution_count": 4,
      "outputs": [
        {
          "output_type": "execute_result",
          "data": {
            "text/plain": [
              "65449.84694978735"
            ]
          },
          "metadata": {},
          "execution_count": 4
        }
      ]
    },
    {
      "cell_type": "code",
      "source": [
        "(3*4)+5\n",
        "# Result: 17"
      ],
      "metadata": {
        "colab": {
          "base_uri": "https://localhost:8080/"
        },
        "id": "MpPGIfkGvl2C",
        "outputId": "20ab89be-deca-42de-c63a-796dd237c595"
      },
      "execution_count": 5,
      "outputs": [
        {
          "output_type": "execute_result",
          "data": {
            "text/plain": [
              "17"
            ]
          },
          "metadata": {},
          "execution_count": 5
        }
      ]
    },
    {
      "cell_type": "code",
      "source": [
        "days = 0\n",
        "hours = 0\n",
        "mins = 0\n",
        "\n",
        "time = 200\n",
        "#days = time / 1440\n",
        "leftover_minutes = time % 1440\n",
        "hours = leftover_minutes / 60\n",
        "#mins = time - (days*1440) - (hours*60)\n",
        "print(str(days) + \" days, \" + str(hours) + \" hours, \" + str(mins) +  \" mins. \")\n",
        "\n",
        "# Result: 3.3333333333333335 hours"
      ],
      "metadata": {
        "colab": {
          "base_uri": "https://localhost:8080/"
        },
        "id": "YEeex4wpvy_i",
        "outputId": "a7a2f4db-bf68-4af9-9c12-6b547612da59"
      },
      "execution_count": 6,
      "outputs": [
        {
          "output_type": "stream",
          "name": "stdout",
          "text": [
            "0 days, 3.3333333333333335 hours, 0 mins. \n"
          ]
        }
      ]
    },
    {
      "cell_type": "markdown",
      "source": [
        "**Author:**\n",
        "\n",
        "Avisha Vijayvargiya"
      ],
      "metadata": {
        "id": "Hky-cAEOxNWK"
      }
    },
    {
      "cell_type": "code",
      "source": [],
      "metadata": {
        "id": "VWvTyM98xPf0"
      },
      "execution_count": null,
      "outputs": []
    }
  ]
}